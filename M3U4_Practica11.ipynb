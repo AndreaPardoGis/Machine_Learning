{
 "cells": [
  {
   "cell_type": "markdown",
   "id": "7d31a22a-0cb7-45a7-9c86-c24104f78b2b",
   "metadata": {},
   "source": [
    "# **Práctica 11: Random Forest**"
   ]
  },
  {
   "cell_type": "markdown",
   "id": "4da661d1-d1b4-411d-a453-c6d246eec86d",
   "metadata": {},
   "source": [
    "## **Predicción de Temperaturas Reales con Random Forest y Árbol de Decisión**\r\n",
    "\r\n",
    "En este análisis, se busca predecir la temperatura real (`actual`) utilizando un conjunto de variables meteorológicas. Para ello, se implementarán y compararán dos modelos: un Árbol de Decisión simple y un Random Forest Regressor, incluyendo una versión optimizada mediante búsqueda de hiperparámetros.\r\n",
    "\r\n",
    "El objetivo es:\r\n",
    "- Entrenar modelos de regresión.\r\n",
    "- Comparar su desempeño.\r\n",
    "- Analizar las variables más influyentes en la predicción.\r\n"
   ]
  },
  {
   "cell_type": "code",
   "execution_count": null,
   "id": "e1366509-0be0-4240-8313-efdf743c8397",
   "metadata": {},
   "outputs": [],
   "source": [
    "import pandas as pd\n",
    "import matplotlib.pyplot as plt\n",
    "import seaborn as sns\n",
    "import numpy as np\n",
    "from sklearn.preprocessing import LabelEncoder\n",
    "from sklearn.model_selection import train_test_split, GridSearchCV\n",
    "from sklearn.ensemble import RandomForestRegressor\n",
    "from sklearn.tree import DecisionTreeRegressor\n",
    "from sklearn.metrics import mean_squared_error, mean_absolute_error, r2_score "
   ]
  },
  {
   "cell_type": "markdown",
   "id": "5084d424-2572-4465-9ae0-1d1d0a7752ee",
   "metadata": {},
   "source": [
    "## **Análisis exploratorio inicial (EDA)**\n",
    "\n",
    "Esto nos permitirá conocer el tipo de variables, valores nulos y posibles errores en los datos.\n",
    "Se visualiza la distribución y posibles outliers de las variables numéricas con boxplots e histogramas.\n",
    "Esto ayuda a detectar si es necesario escalar, transformar o eliminar valores extremos.\n",
    "\n"
   ]
  },
  {
   "cell_type": "code",
   "execution_count": null,
   "id": "9566a037-4969-4581-ae3d-59647afa36d8",
   "metadata": {},
   "outputs": [],
   "source": [
    "# Carga de datos y exploración inicial\n",
    "temps = pd.read_csv(\"temps.csv\")\n",
    "\n",
    "print(temps.head())\n",
    "print(temps.info())\n",
    "print(temps.describe())\n",
    "print(temps.shape)"
   ]
  },
  {
   "cell_type": "code",
   "execution_count": null,
   "id": "333826cc-a243-4ea4-b3c0-344ae3a9d7a7",
   "metadata": {},
   "outputs": [],
   "source": [
    "temps.columns"
   ]
  },
  {
   "cell_type": "code",
   "execution_count": null,
   "id": "52924df4-112f-4e9b-8443-1db3cc6a0ec4",
   "metadata": {},
   "outputs": [],
   "source": [
    "# Ver cuantos valores unicos hay en la columna week y que so\n",
    "temps['week'].unique()"
   ]
  },
  {
   "cell_type": "code",
   "execution_count": null,
   "id": "d3710dc2-0c12-4341-ada5-f0d3d6be01dd",
   "metadata": {},
   "outputs": [],
   "source": [
    "# Ver cuantos de cada valor hay\n",
    "temps['week'].value_counts()"
   ]
  },
  {
   "cell_type": "code",
   "execution_count": null,
   "id": "3fbd042f-f356-4996-8f47-e85ef4b1d278",
   "metadata": {},
   "outputs": [],
   "source": [
    "# valores nulos\n",
    "print(temps.isnull().sum())"
   ]
  },
  {
   "cell_type": "code",
   "execution_count": null,
   "id": "0e4fb0ed-e7b6-4d69-87bf-27d070e71487",
   "metadata": {},
   "outputs": [],
   "source": [
    "# Eliminar year amtes de dividir\n",
    "temps = temps.drop(columns=['year'])"
   ]
  },
  {
   "cell_type": "code",
   "execution_count": null,
   "id": "571c9672-dd39-421a-b706-2bce0340a73a",
   "metadata": {},
   "outputs": [],
   "source": [
    "numerical_cols = temps.select_dtypes(include=['float64', 'int64'])\n",
    "fig = plt.figure(figsize=(10, 10))\n",
    "sns.boxplot(data=numerical_cols)\n",
    "plt.title(\"Boxplot de variables numéricas\")\n",
    "plt.show()\n",
    "\n",
    "# Análisis de distribución\n",
    "numerical_cols.hist(figsize=(10, 8), bins=20, color='skyblue', edgecolor='black')\n",
    "plt.suptitle(\"Distribución de variables numéricas\", fontsize=14)\n",
    "plt.show()"
   ]
  },
  {
   "cell_type": "code",
   "execution_count": null,
   "id": "aaea834d-7a44-4c7c-b941-e2c8ba5cfe16",
   "metadata": {},
   "outputs": [],
   "source": [
    "print(temps.info())"
   ]
  },
  {
   "cell_type": "markdown",
   "id": "9539bdbe-2f84-4d63-a488-c7ceb4792053",
   "metadata": {},
   "source": [
    "## **Preparación de Datos**\n",
    "\n",
    "Se separan las variables predictoras y la variable objetivo, que en este caso es la temperatura real (actual) que queremos predecir.\n",
    "Se convierten variables categóricas en numéricas mediante one-hot encoding."
   ]
  },
  {
   "cell_type": "code",
   "execution_count": null,
   "id": "5eb808ca-00cc-4913-8ca9-c9f578da5d18",
   "metadata": {},
   "outputs": [],
   "source": [
    "# Separar en variables predictoras y la variable objetivo\n",
    "X = temps.drop('actual', axis=1)\n",
    "y = temps['actual']\n",
    "\n",
    "X = pd.get_dummies(X, dtype=int)\n",
    "X.head()"
   ]
  },
  {
   "cell_type": "markdown",
   "id": "242767fc-edaa-437a-a9bf-42ee6c9055ce",
   "metadata": {},
   "source": [
    "## **División en entrenamiento y test**\n",
    "\n",
    "Se divide el conjunto en un 80% para entrenar y 20% para evaluar, para ver cómo se comporta el modelo con datos no vistos.\n"
   ]
  },
  {
   "cell_type": "code",
   "execution_count": null,
   "id": "0f9696bf-ceca-42c0-b9ec-80e86c940271",
   "metadata": {},
   "outputs": [],
   "source": [
    "X_train, X_test, y_train, y_test = train_test_split(X, y, test_size=0.2, random_state=42) "
   ]
  },
  {
   "cell_type": "code",
   "execution_count": null,
   "id": "0d448a10-a8a7-416c-9eba-35d7f9baf7d8",
   "metadata": {},
   "outputs": [],
   "source": [
    "X_train.shape , X_test.shape"
   ]
  },
  {
   "cell_type": "code",
   "execution_count": null,
   "id": "dadf40cf-8131-468e-b9f5-0d0b04b2afd3",
   "metadata": {},
   "outputs": [],
   "source": [
    "y_train.shape , y_test.shape"
   ]
  },
  {
   "cell_type": "markdown",
   "id": "7e0e410b-7137-4322-8b18-9180e51c1cae",
   "metadata": {},
   "source": [
    "## **Entrenamiento de modelo base: Random Forest Regressor**\n",
    "\n",
    "Se entrena un modelo de regresión que utiliza varios árboles para hacer predicciones más precisas y robustas."
   ]
  },
  {
   "cell_type": "code",
   "execution_count": null,
   "id": "02bf5daf-6fef-4c89-b7e9-3aff0af33c66",
   "metadata": {},
   "outputs": [],
   "source": [
    "# Entrenamiento de modelo Random Forest \n",
    "rforest = RandomForestRegressor(n_estimators=100, max_depth=None, random_state=42)\n",
    "rforest.fit(X_train, y_train)\n",
    "\n",
    "y_pred = rforest.predict(X_test)"
   ]
  },
  {
   "cell_type": "markdown",
   "id": "35ffd8ef-1b29-4b43-872f-fbebbbf4e340",
   "metadata": {},
   "source": [
    "## **Evaluación del modelo base**\n",
    "\n",
    "Métricas utilizadas:\n",
    "\n",
    "MSE (Error cuadrático medio): Penaliza más los errores grandes.\n",
    "\n",
    "MAE (Error absoluto medio): Promedio de errores absolutos.\n",
    "\n",
    "R² (Coeficiente de determinación): Mide cuánta varianza de la variable objetivo explica el modelo.\n",
    "→ Valores cercanos a 1 son buenos.\n"
   ]
  },
  {
   "cell_type": "code",
   "execution_count": null,
   "id": "040f6b8b-6f9e-4d0a-a77c-c65166a69d8c",
   "metadata": {},
   "outputs": [],
   "source": [
    "# Evaluación del modelo\n",
    "mse = mean_squared_error(y_test, y_pred)\n",
    "mae = mean_absolute_error(y_test, y_pred)\n",
    "r2 = r2_score(y_test, y_pred)\n",
    "\n",
    "print(\"\\nEvaluación del modelo base (Regresión):\")\n",
    "print(\"Error cuadrático medio (MSE):\", mse)\n",
    "print(\"Error absoluto medio (MAE):\", mae)\n",
    "print(\"R²:\", r2)"
   ]
  },
  {
   "cell_type": "markdown",
   "id": "e091f10f-fd3f-4470-9574-25a40e9dda62",
   "metadata": {},
   "source": [
    "Resultado: R² ≈ 0.82 → El modelo base ya predice bastante bien."
   ]
  },
  {
   "cell_type": "code",
   "execution_count": null,
   "id": "08288255-e993-4ff4-a7e4-e7f55aecb367",
   "metadata": {},
   "outputs": [],
   "source": [
    "# importancia de las caracteristicas\n",
    "importances = rforest.feature_importances_\n",
    "features = X.columns\n",
    "\n",
    "indices = np.argsort(importances)\n",
    "\n",
    "plt.figure(figsize=(10, 6))\n",
    "plt.title('Importancia de las Características')\n",
    "plt.bar(range(X.shape[1]), importances[indices], align='center')\n",
    "plt.xticks(range(X.shape[1]), features[indices], rotation=90)\n",
    "plt.xlabel('Características')\n",
    "plt.ylabel('Importancia')\n",
    "plt.tight_layout()\n",
    "plt.show()\n",
    "\n"
   ]
  },
  {
   "cell_type": "markdown",
   "id": "3ff7be2f-5f34-45ae-b2bf-60880761197d",
   "metadata": {},
   "source": [
    "## **Optimización de hiperparámetros con GridSearchCV**\n",
    "\n",
    " Se prueba automáticamente con distintas combinaciones de hiperparámetros para encontrar la que genera mejor rendimiento en validación cruzada."
   ]
  },
  {
   "cell_type": "code",
   "execution_count": null,
   "id": "71c0afeb-e2ee-4f4c-b266-af2f42f0bfff",
   "metadata": {},
   "outputs": [],
   "source": [
    "# Busqueda en cuadricula de hiperparametro (GridSearchCV)\n",
    "param_grid = {\n",
    "    \"n_estimators\": [50, 100, 200],\n",
    "    \"max_depth\": [None, 5, 10, 20],\n",
    "    \"min_samples_split\": [2, 5, 10],\n",
    "    \"min_samples_leaf\": [1, 2, 4]\n",
    "}\n",
    "\n",
    "grid_search = GridSearchCV(RandomForestRegressor(random_state=42),\n",
    "                          param_grid,\n",
    "                           cv=5,\n",
    "                           scoring=\"neg_mean_squared_error\",\n",
    "                           n_jobs=-1,\n",
    "                           verbose=2)\n",
    "\n",
    "grid_search.fit(X_train, y_train)\n",
    "\n",
    "print(\"Mejores parámetros:\", grid_search.best_params_)\n",
    "print(\"Mejor score(accuracy en validación cruzada):\", grid_search.best_score_)"
   ]
  },
  {
   "cell_type": "markdown",
   "id": "ed9b5bc1-e59b-4584-ab93-7acbcecbcd0d",
   "metadata": {},
   "source": [
    "## **Evaluación final con el mejor modelo**"
   ]
  },
  {
   "cell_type": "code",
   "execution_count": null,
   "id": "f822dc59-f554-4e42-98d8-2efec2d0faba",
   "metadata": {},
   "outputs": [],
   "source": [
    "# Evaluación final con el mejor modelo\n",
    "best_model = grid_search.best_estimator_\n",
    "\n",
    "y_pred_best = best_model.predict(X_test)\n",
    "\n",
    "# Métricas de regresión\n",
    "mse_best = mean_squared_error(y_test, y_pred_best)\n",
    "mae_best = mean_absolute_error(y_test, y_pred_best)\n",
    "r2_best = r2_score(y_test, y_pred_best)\n",
    "\n",
    "print(\"\\nEvaluación del modelo optimizado (Regresión):\")\n",
    "print(\"Error cuadrático medio (MSE):\", mse_best)\n",
    "print(\"Error absoluto medio (MAE):\", mae_best)\n",
    "print(\"R²:\", r2_best)"
   ]
  },
  {
   "cell_type": "markdown",
   "id": "0d6445bf-3c9d-411a-834a-8e90039159ce",
   "metadata": {},
   "source": [
    "Se prueba el modelo optimo con el set de test y se evalúan las métricas como antes.\n",
    "\n",
    " Resultado:\n",
    "\n",
    "MSE bajó un poco\n",
    "\n",
    "MAE también bajó\n",
    "\n",
    "R² subió a 0.83\n",
    "\n",
    "Esto confirma que la optimización fue útil."
   ]
  },
  {
   "cell_type": "markdown",
   "id": "c1e181c4-1f58-4476-9c46-eedb2901eba8",
   "metadata": {},
   "source": [
    "## **Comparación con un modelo más simple: Árbol de Decisión**"
   ]
  },
  {
   "cell_type": "code",
   "execution_count": null,
   "id": "5da73845-cc96-457f-a1d1-457babe1fec2",
   "metadata": {},
   "outputs": [],
   "source": [
    "# 6. Comparación con un único árbol de decisión\n",
    "dt = DecisionTreeRegressor(random_state=42)\n",
    "dt.fit(X_train, y_train)\n",
    "\n",
    "y_pred_dt = dt.predict(X_test)\n",
    "\n",
    "# Métricas de regresión para el árbol de decisión\n",
    "mse_dt = mean_squared_error(y_test, y_pred_dt)\n",
    "mae_dt = mean_absolute_error(y_test, y_pred_dt)\n",
    "r2_dt = r2_score(y_test, y_pred_dt)\n",
    "\n",
    "print(\"\\nEvaluación del Árbol de Decisión (Regresión):\")\n",
    "print(\"Error cuadrático medio (MSE):\", mse_dt)\n",
    "print(\"Error absoluto medio (MAE):\", mae_dt)\n",
    "print(\"R²:\", r2_dt)"
   ]
  },
  {
   "cell_type": "markdown",
   "id": "688fcfea-3432-41f9-93f9-c60c31f82b7a",
   "metadata": {},
   "source": [
    "Se entrena un solo árbol como referencia.\n",
    " Resultado: R² = 0.67, peores errores → Muestra que el Random Forest mejora el rendimiento al combinar múltiples árboles y evitar sobreajuste."
   ]
  },
  {
   "cell_type": "markdown",
   "id": "61a1a72c-9c0c-4c75-b789-a1345c60ea2a",
   "metadata": {},
   "source": [
    "## **Conclusiones**\n",
    "\n",
    "1. El modelo Random Forest base ya ofrecía un buen rendimiento predictivo, con un R² de 0.82.\n",
    "2. Tras aplicar GridSearchCV para optimizar los hiperparámetros, se logró mejorar ligeramente el modelo, alcanzando un R² de 0.83.\n",
    "3. Comparado con un único árbol de decisión (R² de 0.67), el modelo Random Forest demuestra ser más robusto y generaliza mejor los datos.\n",
    "4. Las métricas de regresión confirman que Random Forest, incluso sin optimización, supera claramente al árbol de decisión individual, tanto en error absoluto como cuadrático.\n"
   ]
  },
  {
   "cell_type": "markdown",
   "id": "22b52d1d-a17f-44f7-9dd5-80180ee18362",
   "metadata": {},
   "source": [
    "El uso de Random Forest Regressor ha permitido predecir de forma precisa la temperatura. La comparación con un árbol de decisión individual ha mostrado que el modelo en conjunto generaliza mejor. Además, la optimización de hiperparámetros ha contribuido a una mejora leve en el rendimiento."
   ]
  },
  {
   "cell_type": "code",
   "execution_count": null,
   "id": "2a2f2fdb-a23e-41e3-aecc-8b0be048f218",
   "metadata": {},
   "outputs": [],
   "source": []
  }
 ],
 "metadata": {
  "kernelspec": {
   "display_name": "Python 3 (ipykernel)",
   "language": "python",
   "name": "python3"
  },
  "language_info": {
   "codemirror_mode": {
    "name": "ipython",
    "version": 3
   },
   "file_extension": ".py",
   "mimetype": "text/x-python",
   "name": "python",
   "nbconvert_exporter": "python",
   "pygments_lexer": "ipython3",
   "version": "3.12.4"
  }
 },
 "nbformat": 4,
 "nbformat_minor": 5
}
